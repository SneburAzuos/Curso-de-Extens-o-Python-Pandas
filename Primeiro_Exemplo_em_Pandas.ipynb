{
  "nbformat": 4,
  "nbformat_minor": 0,
  "metadata": {
    "colab": {
      "private_outputs": true,
      "provenance": [],
      "mount_file_id": "1CbeBJbbdeRdbop_kCkV1Y1ztiJIsX9J1",
      "authorship_tag": "ABX9TyMvleUpNLASD6EtWrsJapfg",
      "include_colab_link": true
    },
    "kernelspec": {
      "name": "python3",
      "display_name": "Python 3"
    },
    "language_info": {
      "name": "python"
    }
  },
  "cells": [
    {
      "cell_type": "markdown",
      "metadata": {
        "id": "view-in-github",
        "colab_type": "text"
      },
      "source": [
        "<a href=\"https://colab.research.google.com/github/SneburAzuos/Curso-de-Extens-o-Python-Pandas/blob/main/Primeiro_Exemplo_em_Pandas.ipynb\" target=\"_parent\"><img src=\"https://colab.research.google.com/assets/colab-badge.svg\" alt=\"Open In Colab\"/></a>"
      ]
    },
    {
      "cell_type": "markdown",
      "source": [
        "Primeiro Exemplo de manipulação de dados usando Pytthon Pandas\n",
        "\n",
        "Autor: Rubens Jesus Souza\n",
        "\n",
        "Data: 06 de fevereiro de 2023\n"
      ],
      "metadata": {
        "id": "xEbJ24NPUeni"
      }
    },
    {
      "cell_type": "code",
      "source": [
        "# Importando bibliotecas pandas Python\n",
        "import pandas as pd"
      ],
      "metadata": {
        "id": "K7t_0Gn_VNxS"
      },
      "execution_count": null,
      "outputs": []
    },
    {
      "cell_type": "code",
      "source": [
        "combustiveis_df = pd.read_csv(\"\")"
      ],
      "metadata": {
        "id": "0fDTy6m2Sw07"
      },
      "execution_count": null,
      "outputs": []
    }
  ]
}