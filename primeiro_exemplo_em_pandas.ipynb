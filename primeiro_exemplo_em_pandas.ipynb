{
  "nbformat": 4,
  "nbformat_minor": 0,
  "metadata": {
    "colab": {
      "private_outputs": true,
      "provenance": [],
      "mount_file_id": "1CbeBJbbdeRdbop_kCkV1Y1ztiJIsX9J1",
      "authorship_tag": "ABX9TyPZi8RP/OjPEsaBo7K5UohS",
      "include_colab_link": true
    },
    "kernelspec": {
      "name": "python3",
      "display_name": "Python 3"
    },
    "language_info": {
      "name": "python"
    }
  },
  "cells": [
    {
      "cell_type": "markdown",
      "metadata": {
        "id": "view-in-github",
        "colab_type": "text"
      },
      "source": [
        "<a href=\"https://colab.research.google.com/github/SneburAzuos/Curso-de-Extens-o-Python-Pandas/blob/main/primeiro_exemplo_em_pandas.ipynb\" target=\"_parent\"><img src=\"https://colab.research.google.com/assets/colab-badge.svg\" alt=\"Open In Colab\"/></a>"
      ]
    },
    {
      "cell_type": "markdown",
      "source": [
        "Primeiro Exemplo de manipulação de dados usando Pytthon Pandas\n",
        "\n",
        "Autor: Rubens Jesus Souza\n",
        "\n",
        "Data: 06 de fevereiro de 2023\n"
      ],
      "metadata": {
        "id": "xEbJ24NPUeni"
      }
    },
    {
      "cell_type": "code",
      "source": [
        "# Importando bibliotecas pandas Python\n",
        "import pandas as pd"
      ],
      "metadata": {
        "id": "K7t_0Gn_VNxS"
      },
      "execution_count": null,
      "outputs": []
    },
    {
      "cell_type": "code",
      "source": [
        "combustiveis_df = pd.read_csv(\"/content/drive/MyDrive/Colab Notebooks/Aulas de Pandas/precos-semestrais-ca-2022-01.csv\", sep=\";\")"
      ],
      "metadata": {
        "id": "0fDTy6m2Sw07"
      },
      "execution_count": null,
      "outputs": []
    },
    {
      "cell_type": "code",
      "source": [
        "combustiveis_df.head()"
      ],
      "metadata": {
        "id": "s0QRML7Vw2Ap"
      },
      "execution_count": null,
      "outputs": []
    },
    {
      "cell_type": "code",
      "source": [
        "combustiveis_df.shape\n"
      ],
      "metadata": {
        "id": "PjzVrOBhzzL0"
      },
      "execution_count": null,
      "outputs": []
    },
    {
      "cell_type": "code",
      "source": [
        "combustiveis_df.value_counts\n"
      ],
      "metadata": {
        "id": "8R7x8sfNz_tK"
      },
      "execution_count": null,
      "outputs": []
    }
  ]
}